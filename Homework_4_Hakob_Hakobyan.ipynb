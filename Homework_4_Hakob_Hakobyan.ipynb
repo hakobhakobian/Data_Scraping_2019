{
 "cells": [
  {
   "cell_type": "code",
   "execution_count": 1,
   "metadata": {},
   "outputs": [],
   "source": [
    "import lyricsgenius\n",
    "import pandas as pd\n",
    "import numpy as np\n",
    "import re\n",
    "from textblob import TextBlob, Word\n",
    "from textblob import TextBlob, Word\n",
    "import nltk\n",
    "from nltk.corpus import stopwords, wordnet\n",
    "from nltk.tokenize import sent_tokenize, word_tokenize\n",
    "from nltk.stem import PorterStemmer, WordNetLemmatizer\n",
    "\n",
    "import collections\n",
    "from collections import Counter\n",
    "\n",
    "import pageviewapi\n",
    "import wikipedia\n"
   ]
  },
  {
   "cell_type": "markdown",
   "metadata": {},
   "source": [
    "1) Using Genius Api search for your favorite 3 artists.\n",
    "\n",
    "    a) Get 5 most popular songs’ lyrics for each of them. ( max_songs = 5)\n",
    "    b) Make dataframe with columns “Artist”,”Song”,”Lyrics”,”Year”,”Sentiment_Score”\n",
    "    c) What are the most positive and negative songs?"
   ]
  },
  {
   "cell_type": "code",
   "execution_count": 9,
   "metadata": {},
   "outputs": [],
   "source": [
    "genius = lyricsgenius.Genius(\"you_token\")"
   ]
  },
  {
   "cell_type": "code",
   "execution_count": 12,
   "metadata": {
    "collapsed": true
   },
   "outputs": [
    {
     "name": "stdout",
     "output_type": "stream",
     "text": [
      "Searching for songs by Joe_Cocker...\n",
      "\n",
      "Changing artist name to 'Joe Cocker'\n",
      "Song 1: \"With a Little Help From My Friends\"\n",
      "Song 2: \"You Are So Beautiful\"\n",
      "Song 3: \"Unchain My Heart\"\n",
      "Song 4: \"Up Where We Belong\"\n",
      "Song 5: \"You Can Leave Your Hat On\"\n",
      "\n",
      "Reached user-specified song limit (5).\n",
      "Done. Found 5 songs.\n"
     ]
    }
   ],
   "source": [
    "Joe_Cocker = genius.search_artist(\"Joe_Cocker\", max_songs=5, sort=\"popularity\")"
   ]
  },
  {
   "cell_type": "code",
   "execution_count": 13,
   "metadata": {
    "collapsed": true
   },
   "outputs": [
    {
     "name": "stdout",
     "output_type": "stream",
     "text": [
      "Searching for songs by Frank_Sinatra...\n",
      "\n",
      "Changing artist name to 'Frank Sinatra'\n",
      "Song 1: \"Fly Me To The Moon\"\n",
      "Song 2: \"My Way\"\n",
      "Song 3: \"New York, New York\"\n",
      "Song 4: \"The Way You Look Tonight\"\n",
      "Song 5: \"Somethin’ Stupid\"\n",
      "\n",
      "Reached user-specified song limit (5).\n",
      "Done. Found 5 songs.\n"
     ]
    }
   ],
   "source": [
    "Frank_Sinatra = genius.search_artist(\"Frank_Sinatra\", max_songs=5, sort=\"popularity\")"
   ]
  },
  {
   "cell_type": "code",
   "execution_count": 14,
   "metadata": {
    "collapsed": true
   },
   "outputs": [
    {
     "name": "stdout",
     "output_type": "stream",
     "text": [
      "Searching for songs by Johnny_Cash...\n",
      "\n",
      "Changing artist name to 'Johnny Cash'\n",
      "Song 1: \"You Are My Sunshine\"\n",
      "Song 2: \"Hurt\"\n",
      "Song 3: \"Ring of Fire\"\n",
      "Song 4: \"I Walk The Line\"\n",
      "Song 5: \"Folsom Prison Blues\"\n",
      "\n",
      "Reached user-specified song limit (5).\n",
      "Done. Found 5 songs.\n"
     ]
    }
   ],
   "source": [
    "Johnny_Cash = genius.search_artist(\"Johnny_Cash\", max_songs=5, sort=\"popularity\")"
   ]
  },
  {
   "cell_type": "code",
   "execution_count": 38,
   "metadata": {},
   "outputs": [],
   "source": [
    "Artist_info = np.array([[Joe_Cocker.songs[i].artist for i in range(len(Joe_Cocker.songs))] +\\\n",
    "                 [Frank_Sinatra.songs[i].artist for i in range(len(Frank_Sinatra.songs))]+\\\n",
    "                 [Johnny_Cash.songs[i].artist for i in range(len(Johnny_Cash.songs))],\\\n",
    "        #artists' names and combined\n",
    "                 [Joe_Cocker.songs[i].title for i in range(len(Joe_Cocker.songs))]+\\\n",
    "                 [Frank_Sinatra.songs[i].title for i in range(len(Frank_Sinatra.songs))]+\\\n",
    "                 [Johnny_Cash.songs[i].title for i in range(len(Johnny_Cash.songs))],\\\n",
    "        #artists' song titles respectively and combined\n",
    "                [Joe_Cocker.songs[i].lyrics.replace(\"\\n\",\" \") for i in range(len(Joe_Cocker.songs))]+\\\n",
    "                 [Frank_Sinatra.songs[i].lyrics.replace(\"\\n\",\" \") for i in range(len(Frank_Sinatra.songs))]+\\\n",
    "                 [Johnny_Cash.songs[i].lyrics.replace(\"\\n\",\" \") for i in range(len(Johnny_Cash.songs))],\\\n",
    "        #artists' song lyrics, replaced notation of \"\\n\" with space respectively and combined\n",
    "                [Joe_Cocker.songs[i].year for i in range(len(Joe_Cocker.songs))]+\\\n",
    "                 [Frank_Sinatra.songs[i].year for i in range(len(Frank_Sinatra.songs))]+\\\n",
    "                 [Johnny_Cash.songs[i].year for i in range(len(Johnny_Cash.songs))],\\\n",
    "        #comprehension I got artists' song yeasr respectively, but I got actual result only for one song\n",
    "                [TextBlob(Joe_Cocker.songs[i].lyrics.replace(\"\\n\",\" \")).sentiment[0] for i in range(len(Joe_Cocker.songs))]+\\\n",
    "                 [TextBlob(Frank_Sinatra.songs[i].lyrics.replace(\"\\n\",\" \")).sentiment[0] for i in range(len(Frank_Sinatra.songs))]+\\\n",
    "                 [TextBlob(Johnny_Cash.songs[i].lyrics.replace(\"\\n\",\" \")).sentiment[0] for i in range(len(Johnny_Cash.songs))],\\\n",
    "        #artists' song lyrics sentiment score respectively and combined\n",
    "               ])"
   ]
  },
  {
   "cell_type": "code",
   "execution_count": 42,
   "metadata": {
    "scrolled": false
   },
   "outputs": [],
   "source": [
    "Artist_info_df = pd.DataFrame({\"Artist\": Artist_info[0], \"Song\": Artist_info[1],\\\n",
    "              \"Lyrics\":Artist_info[2],\"Year\":Artist_info[3],\"Sentiment_Score\":Artist_info[4]})\n",
    "#transformation into Pandas Dataframe"
   ]
  },
  {
   "cell_type": "code",
   "execution_count": 43,
   "metadata": {
    "scrolled": true
   },
   "outputs": [
    {
     "data": {
      "text/html": [
       "<div>\n",
       "<style scoped>\n",
       "    .dataframe tbody tr th:only-of-type {\n",
       "        vertical-align: middle;\n",
       "    }\n",
       "\n",
       "    .dataframe tbody tr th {\n",
       "        vertical-align: top;\n",
       "    }\n",
       "\n",
       "    .dataframe thead th {\n",
       "        text-align: right;\n",
       "    }\n",
       "</style>\n",
       "<table border=\"1\" class=\"dataframe\">\n",
       "  <thead>\n",
       "    <tr style=\"text-align: right;\">\n",
       "      <th></th>\n",
       "      <th>Artist</th>\n",
       "      <th>Song</th>\n",
       "      <th>Lyrics</th>\n",
       "      <th>Year</th>\n",
       "      <th>Sentiment_Score</th>\n",
       "    </tr>\n",
       "  </thead>\n",
       "  <tbody>\n",
       "    <tr>\n",
       "      <th>0</th>\n",
       "      <td>Joe Cocker</td>\n",
       "      <td>With a Little Help From My Friends</td>\n",
       "      <td>[Guitar Solo: Jimmy Page]  [Verse 1] What woul...</td>\n",
       "      <td>None</td>\n",
       "      <td>-0.0285994</td>\n",
       "    </tr>\n",
       "    <tr>\n",
       "      <th>1</th>\n",
       "      <td>Joe Cocker</td>\n",
       "      <td>You Are So Beautiful</td>\n",
       "      <td>You are so beautiful To me You are so beautifu...</td>\n",
       "      <td>None</td>\n",
       "      <td>0.85</td>\n",
       "    </tr>\n",
       "    <tr>\n",
       "      <th>2</th>\n",
       "      <td>Joe Cocker</td>\n",
       "      <td>Unchain My Heart</td>\n",
       "      <td>Unchain my heart, baby let me be Cause you don...</td>\n",
       "      <td>1987-10-23</td>\n",
       "      <td>0.283333</td>\n",
       "    </tr>\n",
       "    <tr>\n",
       "      <th>3</th>\n",
       "      <td>Joe Cocker</td>\n",
       "      <td>Up Where We Belong</td>\n",
       "      <td>[Verse 1] Who knows what tomorrow brings In a ...</td>\n",
       "      <td>1982-07-22</td>\n",
       "      <td>0.195245</td>\n",
       "    </tr>\n",
       "    <tr>\n",
       "      <th>4</th>\n",
       "      <td>Joe Cocker</td>\n",
       "      <td>You Can Leave Your Hat On</td>\n",
       "      <td>Baby take off your coat Real slow Take off you...</td>\n",
       "      <td>1986-04-01</td>\n",
       "      <td>0.227729</td>\n",
       "    </tr>\n",
       "    <tr>\n",
       "      <th>5</th>\n",
       "      <td>Frank Sinatra</td>\n",
       "      <td>Fly Me To The Moon</td>\n",
       "      <td>[Verse] Fly me to the moon Let me play among t...</td>\n",
       "      <td>1964-01-01</td>\n",
       "      <td>0.108929</td>\n",
       "    </tr>\n",
       "    <tr>\n",
       "      <th>6</th>\n",
       "      <td>Frank Sinatra</td>\n",
       "      <td>My Way</td>\n",
       "      <td>[Verse 1] And now, the end is near And so I fa...</td>\n",
       "      <td>1969-01-01</td>\n",
       "      <td>0.245489</td>\n",
       "    </tr>\n",
       "    <tr>\n",
       "      <th>7</th>\n",
       "      <td>Frank Sinatra</td>\n",
       "      <td>New York, New York</td>\n",
       "      <td>[Verse 1] Start spreading the news, I'm leavin...</td>\n",
       "      <td>1977-06-21</td>\n",
       "      <td>0.146355</td>\n",
       "    </tr>\n",
       "    <tr>\n",
       "      <th>8</th>\n",
       "      <td>Frank Sinatra</td>\n",
       "      <td>The Way You Look Tonight</td>\n",
       "      <td>Some day, when I'm awfully low When the world ...</td>\n",
       "      <td>None</td>\n",
       "      <td>0.307692</td>\n",
       "    </tr>\n",
       "    <tr>\n",
       "      <th>9</th>\n",
       "      <td>Frank Sinatra</td>\n",
       "      <td>Somethin’ Stupid</td>\n",
       "      <td>[Vocals: Frank Sinatra &amp; Nancy Sinatra]  [Vers...</td>\n",
       "      <td>1967-03-05</td>\n",
       "      <td>0.103452</td>\n",
       "    </tr>\n",
       "    <tr>\n",
       "      <th>10</th>\n",
       "      <td>Johnny Cash</td>\n",
       "      <td>You Are My Sunshine</td>\n",
       "      <td>[Verse 1] The other night dear, as I lay sleep...</td>\n",
       "      <td>2003-11-25</td>\n",
       "      <td>0.406818</td>\n",
       "    </tr>\n",
       "    <tr>\n",
       "      <th>11</th>\n",
       "      <td>Johnny Cash</td>\n",
       "      <td>Hurt</td>\n",
       "      <td>[Produced by Rick Rubin]  [Verse 1] I hurt mys...</td>\n",
       "      <td>2002-11-05</td>\n",
       "      <td>0.0666226</td>\n",
       "    </tr>\n",
       "    <tr>\n",
       "      <th>12</th>\n",
       "      <td>Johnny Cash</td>\n",
       "      <td>Ring of Fire</td>\n",
       "      <td>[Verse 1] Love is a burning thing And it makes...</td>\n",
       "      <td>1963-03-25</td>\n",
       "      <td>0.0325397</td>\n",
       "    </tr>\n",
       "    <tr>\n",
       "      <th>13</th>\n",
       "      <td>Johnny Cash</td>\n",
       "      <td>I Walk The Line</td>\n",
       "      <td>[Chorus] I keep a close watch on this heart of...</td>\n",
       "      <td>1956-05-01</td>\n",
       "      <td>0.249927</td>\n",
       "    </tr>\n",
       "    <tr>\n",
       "      <th>14</th>\n",
       "      <td>Johnny Cash</td>\n",
       "      <td>Folsom Prison Blues</td>\n",
       "      <td>[Verse 1] I hear the train a comin', it's roll...</td>\n",
       "      <td>1955-12-15</td>\n",
       "      <td>0.0973765</td>\n",
       "    </tr>\n",
       "  </tbody>\n",
       "</table>\n",
       "</div>"
      ],
      "text/plain": [
       "           Artist                                Song  \\\n",
       "0      Joe Cocker  With a Little Help From My Friends   \n",
       "1      Joe Cocker                You Are So Beautiful   \n",
       "2      Joe Cocker                    Unchain My Heart   \n",
       "3      Joe Cocker                  Up Where We Belong   \n",
       "4      Joe Cocker           You Can Leave Your Hat On   \n",
       "5   Frank Sinatra                  Fly Me To The Moon   \n",
       "6   Frank Sinatra                              My Way   \n",
       "7   Frank Sinatra                  New York, New York   \n",
       "8   Frank Sinatra            The Way You Look Tonight   \n",
       "9   Frank Sinatra                    Somethin’ Stupid   \n",
       "10    Johnny Cash                 You Are My Sunshine   \n",
       "11    Johnny Cash                                Hurt   \n",
       "12    Johnny Cash                        Ring of Fire   \n",
       "13    Johnny Cash                     I Walk The Line   \n",
       "14    Johnny Cash                 Folsom Prison Blues   \n",
       "\n",
       "                                               Lyrics        Year  \\\n",
       "0   [Guitar Solo: Jimmy Page]  [Verse 1] What woul...        None   \n",
       "1   You are so beautiful To me You are so beautifu...        None   \n",
       "2   Unchain my heart, baby let me be Cause you don...  1987-10-23   \n",
       "3   [Verse 1] Who knows what tomorrow brings In a ...  1982-07-22   \n",
       "4   Baby take off your coat Real slow Take off you...  1986-04-01   \n",
       "5   [Verse] Fly me to the moon Let me play among t...  1964-01-01   \n",
       "6   [Verse 1] And now, the end is near And so I fa...  1969-01-01   \n",
       "7   [Verse 1] Start spreading the news, I'm leavin...  1977-06-21   \n",
       "8   Some day, when I'm awfully low When the world ...        None   \n",
       "9   [Vocals: Frank Sinatra & Nancy Sinatra]  [Vers...  1967-03-05   \n",
       "10  [Verse 1] The other night dear, as I lay sleep...  2003-11-25   \n",
       "11  [Produced by Rick Rubin]  [Verse 1] I hurt mys...  2002-11-05   \n",
       "12  [Verse 1] Love is a burning thing And it makes...  1963-03-25   \n",
       "13  [Chorus] I keep a close watch on this heart of...  1956-05-01   \n",
       "14  [Verse 1] I hear the train a comin', it's roll...  1955-12-15   \n",
       "\n",
       "   Sentiment_Score  \n",
       "0       -0.0285994  \n",
       "1             0.85  \n",
       "2         0.283333  \n",
       "3         0.195245  \n",
       "4         0.227729  \n",
       "5         0.108929  \n",
       "6         0.245489  \n",
       "7         0.146355  \n",
       "8         0.307692  \n",
       "9         0.103452  \n",
       "10        0.406818  \n",
       "11       0.0666226  \n",
       "12       0.0325397  \n",
       "13        0.249927  \n",
       "14       0.0973765  "
      ]
     },
     "execution_count": 43,
     "metadata": {},
     "output_type": "execute_result"
    }
   ],
   "source": [
    "Artist_info_df"
   ]
  },
  {
   "cell_type": "code",
   "execution_count": 19,
   "metadata": {
    "scrolled": true
   },
   "outputs": [
    {
     "name": "stdout",
     "output_type": "stream",
     "text": [
      "0.85\n"
     ]
    }
   ],
   "source": [
    "positive = np.array(Artist_info_df.Sentiment_Score).max() #Most positive song is Joe Cockers \"You Are So Beautiful\" song\n",
    "print(positive)"
   ]
  },
  {
   "cell_type": "code",
   "execution_count": 41,
   "metadata": {},
   "outputs": [
    {
     "name": "stdout",
     "output_type": "stream",
     "text": [
      "-0.028599439775910368\n"
     ]
    }
   ],
   "source": [
    "negative = np.array(Artist_info_df.Sentiment_Score).min() #Most negative song is Joe Cockers \"With a Little Help From My Friends\" song\n",
    "print(negative)"
   ]
  },
  {
   "cell_type": "markdown",
   "metadata": {},
   "source": [
    "2) Using Wikipedia api\n",
    "\n",
    "    a) Get summary of wikipedia pages of the 3 artists above in russian (set language to russian) .\n",
    "    b) What are the most common words in summary for each of them?"
   ]
  },
  {
   "cell_type": "code",
   "execution_count": 228,
   "metadata": {},
   "outputs": [],
   "source": [
    "wikipedia.set_lang(\"ru\")"
   ]
  },
  {
   "cell_type": "code",
   "execution_count": 248,
   "metadata": {
    "scrolled": true
   },
   "outputs": [
    {
     "name": "stderr",
     "output_type": "stream",
     "text": [
      "[nltk_data] Downloading package punkt to\n",
      "[nltk_data]     C:\\Users\\Hakob\\AppData\\Roaming\\nltk_data...\n",
      "[nltk_data]   Package punkt is already up-to-date!\n"
     ]
    },
    {
     "data": {
      "text/plain": [
       "True"
      ]
     },
     "execution_count": 248,
     "metadata": {},
     "output_type": "execute_result"
    }
   ],
   "source": [
    "nltk.download('punkt')"
   ]
  },
  {
   "cell_type": "code",
   "execution_count": 251,
   "metadata": {},
   "outputs": [],
   "source": [
    "badwords = [ u'я', u'а', u'да', u'но', u'тебе', u'мне', u'ты', u'и', u'у', u'на', u'ща', u'ага',\n",
    "u'так', u'там', u'какие', u'который', u'какая', u'туда', u'давай', u'короче', u'кажется', u'вообще',\n",
    "u'ну', u'не', u'чет', u'неа', u'свои', u'наше', u'хотя', u'такое', u'например', u'кароч', u'как-то',\n",
    "u'нам', u'хм', u'всем', u'нет', u'да', u'оно', u'своем', u'про', u'вы', u'м', u'тд',\n",
    "u'вся', u'кто-то', u'что-то', u'вам', u'это', u'эта', u'эти', u'этот', u'прям', u'либо', u'как', u'мы',\n",
    "u'просто', u'блин', u'очень', u'самые', u'твоем', u'ваша', u'кстати', u'вроде', u'типа', u'пока', u'ок']\n",
    "#dowloaded from https://github.com/nltk/nltk/issues/1367"
   ]
  },
  {
   "cell_type": "code",
   "execution_count": 268,
   "metadata": {},
   "outputs": [],
   "source": [
    "russian_stopwords = stopwords.words(\"russian\") # from https://www.kaggle.com/alxmamaev/how-to-easy-preprocess-russian-text"
   ]
  },
  {
   "cell_type": "code",
   "execution_count": 333,
   "metadata": {},
   "outputs": [],
   "source": [
    "stops = russian_stopwords + badwords + ['В',\",\",\"``\",\"\\''\",\"’\",\":\",\"'s\",\"‘\",\"–\",'—',\"$\",\"\\'\",'/','.','«','»','===','==','(',')',';','@']\n",
    "#after code execution I manually added some simbols for exclusion"
   ]
  },
  {
   "cell_type": "code",
   "execution_count": 334,
   "metadata": {},
   "outputs": [],
   "source": [
    "russian_stopwords = list(set(stops))"
   ]
  },
  {
   "cell_type": "code",
   "execution_count": 420,
   "metadata": {},
   "outputs": [],
   "source": [
    "Joe_Cocker_wiki = wikipedia.page(\"Joe Cocker\").content"
   ]
  },
  {
   "cell_type": "code",
   "execution_count": 421,
   "metadata": {},
   "outputs": [],
   "source": [
    "Joe_Cocker_wiki_words = nltk.word_tokenize(Joe_Cocker_wiki)"
   ]
  },
  {
   "cell_type": "code",
   "execution_count": 422,
   "metadata": {},
   "outputs": [],
   "source": [
    "Joe_Cocker_wiki_clean=[] \n",
    "for i in Joe_Cocker_wiki_words: \n",
    "    if i not in russian_stopwords:\n",
    "        Joe_Cocker_wiki_clean.append(i)"
   ]
  },
  {
   "cell_type": "code",
   "execution_count": 423,
   "metadata": {},
   "outputs": [
    {
     "name": "stdout",
     "output_type": "stream",
     "text": [
      "[('Кокер', 11), ('году', 9), ('Джо', 6), ('года', 6), ('My', 5), ('Кокера', 5), ('премию', 4), ('годы', 4), ('англ', 3), ('Cocker', 3), ('2014', 3), ('Офицер', 3), ('Up', 3), ('Where', 3), ('We', 3), ('Belong', 3), ('также', 3), ('одним', 3), ('Rolling', 3), ('The', 3), ('Band', 3), ('With', 3), ('a', 3), ('Little', 3), ('Help', 3), ('from', 3), ('Friends', 3), ('Mad', 3), ('Dogs', 3), ('&', 3), ('Englishmen', 3), ('Joe', 2), ('22', 2), ('декабря', 2), ('Кроуфорд', 2), ('Колорадо', 2), ('британский', 2), ('хриплый', 2), ('баритон', 2), ('репертуара', 2), ('блюзовые', 2), ('the', 2), ('You', 2), ('фильме', 2), ('джентльмен', 2), ('Оскар', 2), ('песня', 2), ('Грэмми', 2), ('исполнителей', 2), ('Stone', 2)]\n"
     ]
    }
   ],
   "source": [
    "counter = collections.Counter(Joe_Cocker_wiki_clean) \n",
    "print(counter.most_common(50))   #most  popular 50 words"
   ]
  },
  {
   "cell_type": "code",
   "execution_count": 424,
   "metadata": {},
   "outputs": [],
   "source": [
    "Frank_Sinatra_wiki = wikipedia.page(\"Frank_Sinatra\").content"
   ]
  },
  {
   "cell_type": "code",
   "execution_count": 425,
   "metadata": {},
   "outputs": [],
   "source": [
    "Frank_Sinatra_wiki_words = nltk.word_tokenize(Frank_Sinatra_wiki)"
   ]
  },
  {
   "cell_type": "code",
   "execution_count": 426,
   "metadata": {},
   "outputs": [],
   "source": [
    "Frank_Sinatra_wiki_clean=[] \n",
    "for i in Frank_Sinatra_wiki_words: \n",
    "    if i not in russian_stopwords:\n",
    "        Frank_Sinatra_wiki_clean.append(i)"
   ]
  },
  {
   "cell_type": "code",
   "execution_count": 427,
   "metadata": {
    "scrolled": true
   },
   "outputs": [
    {
     "name": "stdout",
     "output_type": "stream",
     "text": [
      "[('Синатра', 38), ('The', 28), ('году', 27), ('the', 19), ('Синатры', 18), ('Sinatra', 11), ('англ', 10), ('Фрэнк', 10), ('Фрэнка', 9), ('лет', 9), ('года', 8), ('1962', 8), ('стал', 7), ('певца', 7), ('контракт', 7), ('Records', 7), ('Дорси', 6), ('Джонни', 6), ('альбом', 6), ('Frank', 6), ('Нэнси', 6), ('1960', 6), ('стали', 5), ('записал', 5), ('США', 5), ('Долли', 5), ('Мартин', 5), ('С', 5), ('также', 5), ('Of', 5), ('Гарднер', 5), ('!', 5), ('A', 5), ('With', 5), ('Me', 5), ('1959', 5), ('to', 5), ('Man', 5), ('1955', 5), ('1965', 5), ('Тони', 5), ('музыкального', 4), ('Оскар', 4), ('1954', 4), ('жизнь', 4), ('золотой', 4), ('мать', 4), ('вместе', 4), ('первый', 4), ('1948', 4)]\n"
     ]
    }
   ],
   "source": [
    "counter = collections.Counter(Frank_Sinatra_wiki_clean) \n",
    "print(counter.most_common(50))   #most  popular 50 words"
   ]
  },
  {
   "cell_type": "code",
   "execution_count": 428,
   "metadata": {},
   "outputs": [],
   "source": [
    "Johnny_Cash_wiki = wikipedia.page(\"Johnny_Cash\").content"
   ]
  },
  {
   "cell_type": "code",
   "execution_count": 429,
   "metadata": {},
   "outputs": [],
   "source": [
    "Johnny_Cash_wiki_words = nltk.word_tokenize(Johnny_Cash_wiki)"
   ]
  },
  {
   "cell_type": "code",
   "execution_count": 430,
   "metadata": {},
   "outputs": [],
   "source": [
    "Johnny_Cash_wiki_clean=[] \n",
    "for i in Johnny_Cash_wiki_words: \n",
    "    if i not in russian_stopwords:\n",
    "        Johnny_Cash_wiki_clean.append(i)"
   ]
  },
  {
   "cell_type": "code",
   "execution_count": 431,
   "metadata": {
    "scrolled": true
   },
   "outputs": [
    {
     "name": "stdout",
     "output_type": "stream",
     "text": [
      "[('Кэш', 33), ('Кэша', 24), ('года', 23), ('Джонни', 21), ('году', 16), ('Джун', 16), ('Картер', 13), ('The', 8), ('American', 8), ('кантри', 7), ('Sun', 7), ('Records', 7), ('годы', 7), ('2003', 6), ('своей', 6), ('штат', 6), ('альбом', 6), ('лет', 5), ('Вивиан', 5), ('Folsom', 5), ('получил', 5), ('3', 5), ('июля', 5), ('время', 5), ('четыре', 5), ('Johnny', 4), ('Cash', 4), ('Man', 4), ('Джон', 4), ('записи', 4), ('Prison', 4), ('альбомов', 4), ('стала', 4), ('также', 4), ('стиле', 4), ('смерти', 4), ('музыканта', 4), ('Hurt', 4), ('На', 4), ('февраля', 3), ('самых', 3), ('века', 3), ('рокабилли', 3), ('С', 3), ('Кэшем', 3), ('песни', 3), ('рядом', 3), ('США', 3), ('познакомился', 3), ('женой', 3)]\n"
     ]
    }
   ],
   "source": [
    "counter = collections.Counter(Johnny_Cash_wiki_clean) \n",
    "print(counter.most_common(50))   #most  popular 50 words"
   ]
  },
  {
   "cell_type": "code",
   "execution_count": null,
   "metadata": {},
   "outputs": [],
   "source": []
  },
  {
   "cell_type": "markdown",
   "metadata": {},
   "source": [
    "3) Create a class of a human that has data attribute \"nationality\" as Armenian (i.e. the general variable).\n",
    "\n",
    "    a) Make sure that the instances of human class have arguments name, surname, profession and salary (inside init).\n",
    "    b) The class defined must have a method that returns an expression in this format: \"Hi, I am \"name\" ,\"surname\". I am a/an \"profession\" and I earn \"salary\" a month.\" (inside the quote values such as name and surname the relevant attributes of that person should be used.\n",
    "    c) Create one or more objects of the class and execute the class method defined on point b)."
   ]
  },
  {
   "cell_type": "code",
   "execution_count": 44,
   "metadata": {},
   "outputs": [],
   "source": [
    "class human:\n",
    "    nationality = \"Armenian\"\n",
    "    def __init__(self,name,surname,profession,salary):\n",
    "        self.name = name\n",
    "        self.surname = surname\n",
    "        self.profession = profession\n",
    "        self.salary = salary       \n",
    "    def about_human(self):\n",
    "        print(\"Hi, I am \" + self.name + \" \" + self.surname + \".\" + \" I am a/an \"+ \\\n",
    "              self.profession + \" and I earn \" + self.salary + \" a month.\")              \n"
   ]
  },
  {
   "cell_type": "code",
   "execution_count": 45,
   "metadata": {},
   "outputs": [],
   "source": [
    "Person_1 = human(name=\"Hakob\", surname=\"Hakobyan\", profession=\"Economist\", salary=\"Some_amount\")"
   ]
  },
  {
   "cell_type": "code",
   "execution_count": 46,
   "metadata": {},
   "outputs": [
    {
     "name": "stdout",
     "output_type": "stream",
     "text": [
      "Hi, I am Hakob Hakobyan. I am a/an Economist and I earn Some_amount a month.\n"
     ]
    }
   ],
   "source": [
    "Person_1.about_human()"
   ]
  },
  {
   "cell_type": "code",
   "execution_count": 47,
   "metadata": {},
   "outputs": [],
   "source": [
    "Person_2 = human(name=\"Gagik\", surname=\"Karapetyan\", profession=\"Teacher\", salary=\"AMD 120,000\")"
   ]
  },
  {
   "cell_type": "code",
   "execution_count": 48,
   "metadata": {},
   "outputs": [
    {
     "name": "stdout",
     "output_type": "stream",
     "text": [
      "Hi, I am Gagik Karapetyan. I am a/an Teacher and I earn AMD 120,000 a month.\n"
     ]
    }
   ],
   "source": [
    "Person_2.about_human()"
   ]
  },
  {
   "cell_type": "code",
   "execution_count": 49,
   "metadata": {},
   "outputs": [],
   "source": [
    "Person_3 = human(name=\"Karine\", surname=\"Araqelyan\", profession=\"Data Scientist\", salary=\"AMD 300,000\")"
   ]
  },
  {
   "cell_type": "code",
   "execution_count": 50,
   "metadata": {},
   "outputs": [
    {
     "name": "stdout",
     "output_type": "stream",
     "text": [
      "Hi, I am Karine Araqelyan. I am a/an Data Scientist and I earn AMD 300,000 a month.\n"
     ]
    }
   ],
   "source": [
    "Person_3.about_human()"
   ]
  },
  {
   "cell_type": "code",
   "execution_count": null,
   "metadata": {},
   "outputs": [],
   "source": []
  }
 ],
 "metadata": {
  "kernelspec": {
   "display_name": "Python 3",
   "language": "python",
   "name": "python3"
  },
  "language_info": {
   "codemirror_mode": {
    "name": "ipython",
    "version": 3
   },
   "file_extension": ".py",
   "mimetype": "text/x-python",
   "name": "python",
   "nbconvert_exporter": "python",
   "pygments_lexer": "ipython3",
   "version": "3.7.3"
  }
 },
 "nbformat": 4,
 "nbformat_minor": 2
}
